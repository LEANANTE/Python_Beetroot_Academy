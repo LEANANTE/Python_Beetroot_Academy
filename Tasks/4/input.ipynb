{
 "cells": [
  {
   "cell_type": "code",
   "id": "initial_id",
   "metadata": {
    "collapsed": true,
    "ExecuteTime": {
     "end_time": "2025-09-30T15:55:44.184557Z",
     "start_time": "2025-09-30T15:55:44.178985Z"
    }
   },
   "source": [
    "user_name = input(\"Please enter your name: \")\n",
    "print(\"Greatings \" + str(user_name))\n",
    "\n",
    "import (random.randint(1, 3))\n",
    "import randomprint(\"Let's play rock, paper, scissors\")\n",
    "player = input(\"Choose rock, paper, or scissors by typing r, p, or s: \")\n",
    "\n",
    "if player -- 'r' or player == 'p' or player == 's'\n",
    "    # 1 == r\n",
    "    # 2 == p\n",
    "    # 3 == s\n",
    "    if (computer == 1 and player == 'r' or computer == 2 and player == 'p' or computer == 3 and player == 's'):\n",
    "        print (\"It is a draw\")\n",
    "    elif (computer == 1 and player == 'p' or computer == 2 and player == 's' or computer == 3 and player == 'r'):\n",
    "        print(\"Congratulations, you win!\")\n",
    "    else:\n",
    "        print(\"You lost!\")\n",
    "    else:\n",
    "    print(\"Your input was in the format, no game for you\")"
   ],
   "outputs": [
    {
     "ename": "SyntaxError",
     "evalue": "invalid syntax (3185400727.py, line 4)",
     "output_type": "error",
     "traceback": [
      "  \u001B[36mCell\u001B[39m\u001B[36m \u001B[39m\u001B[32mIn[7]\u001B[39m\u001B[32m, line 4\u001B[39m\n\u001B[31m    \u001B[39m\u001B[31mimport (random.randint(1, 3))\u001B[39m\n           ^\n\u001B[31mSyntaxError\u001B[39m\u001B[31m:\u001B[39m invalid syntax\n"
     ]
    }
   ],
   "execution_count": 7
  }
 ],
 "metadata": {
  "kernelspec": {
   "display_name": "Python 3",
   "language": "python",
   "name": "python3"
  },
  "language_info": {
   "codemirror_mode": {
    "name": "ipython",
    "version": 2
   },
   "file_extension": ".py",
   "mimetype": "text/x-python",
   "name": "python",
   "nbconvert_exporter": "python",
   "pygments_lexer": "ipython2",
   "version": "2.7.6"
  }
 },
 "nbformat": 4,
 "nbformat_minor": 5
}
